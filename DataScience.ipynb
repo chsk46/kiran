{
 "cells": [
  {
   "cell_type": "markdown",
   "id": "c492826f-fe0e-4169-94e2-3b9e7363bca7",
   "metadata": {},
   "source": [
    "# Python 15-03-24"
   ]
  },
  {
   "cell_type": "raw",
   "id": "d85828cc-ad9f-4da2-8c59-701f70fb1512",
   "metadata": {},
   "source": [
    "Python progamming is easy to learn \n",
    "Python is reasy to write\n"
   ]
  },
  {
   "cell_type": "code",
   "execution_count": 6,
   "id": "8198f626-cae3-47e4-a436-2888c99e5acf",
   "metadata": {},
   "outputs": [
    {
     "name": "stdin",
     "output_type": "stream",
     "text": [
      "Enter a value: 12233\n",
      "Enter b value: 22222\n"
     ]
    },
    {
     "name": "stdout",
     "output_type": "stream",
     "text": [
      "Addition of two values: 34455\n"
     ]
    }
   ],
   "source": [
    "a = int(input('Enter a value:'))\n",
    "b = int(input('Enter b value:'))\n",
    "c = a+b\n",
    "print('Addition of two values:',c)"
   ]
  },
  {
   "cell_type": "raw",
   "id": "eaf21f0c-a21d-43bd-aa69-7d97532cb66a",
   "metadata": {},
   "source": [
    "* input is a function to take dynamic inputs from the user.\n",
    "\n",
    "* int is a  function to convert text input into interger."
   ]
  },
  {
   "cell_type": "markdown",
   "id": "95f39c7f-683a-4600-87c8-79b35144fd87",
   "metadata": {},
   "source": [
    "# Q. write a program to perform all arthematic operations on two variables and take dynamic inputs."
   ]
  },
  {
   "cell_type": "raw",
   "id": "6b3785c6-c0ef-4169-946f-a9d9f085573c",
   "metadata": {},
   "source": [
    "a = int(input('Enter a value:'))\n",
    "b = int(input('Enter b value:'))\n",
    "c = a+b\n",
    "d = a-b\n",
    "e = a/b\n",
    "f = a*b\n",
    "g = a%b\n",
    "print('addition of a and b is:',c)\n",
    "print('substraction of a and b is:',d)\n",
    "print('division of a and b is:',e)\n",
    "print('multiplication of a and b is:',f)\n",
    "print('reminder of a and b is:',g)\n"
   ]
  },
  {
   "cell_type": "markdown",
   "id": "ffab8936-076c-4a9f-bc0e-0be5060bc708",
   "metadata": {},
   "source": [
    "# Q. write a program to print your name,Qualification, age, location by taking Dynamic inputs"
   ]
  },
  {
   "cell_type": "code",
   "execution_count": 12,
   "id": "c0e99ba9-21c1-49c0-a1d6-32651825184e",
   "metadata": {},
   "outputs": [
    {
     "name": "stdin",
     "output_type": "stream",
     "text": [
      "Enter your Name: challa sai kumar\n",
      "Enter your Qualification: b.tech\n",
      "Enter your Age: 23\n",
      "Enter your Location hyd\n"
     ]
    },
    {
     "name": "stdout",
     "output_type": "stream",
     "text": [
      "Myname is: challa sai kumar\n",
      "My Qualification is: b.tech\n",
      "My Age is: 23\n",
      "I am from: hyd\n"
     ]
    }
   ],
   "source": [
    "Name = input('Enter your Name:')\n",
    "Qualification = input('Enter your Qualification:')\n",
    "Age = int(input('Enter your Age:'))\n",
    "Location = input('Enter your Location')\n",
    "print('Myname is:',Name)\n",
    "print('My Qualification is:', Qualification)\n",
    "print('My Age is:',Age)\n",
    "print('I am from:',Location)"
   ]
  },
  {
   "cell_type": "markdown",
   "id": "6a5d9c7c-a6c0-4e9f-88f8-776abbc3d882",
   "metadata": {},
   "source": [
    "# VARIABLES"
   ]
  },
  {
   "cell_type": "raw",
   "id": "f9627c17-1af5-483b-81e8-ea0ed98a592f",
   "metadata": {},
   "source": [
    "* variable is a data container / variable is a name which holds value."
   ]
  },
  {
   "cell_type": "markdown",
   "id": "78e58758-efa9-4df2-8a3c-2a7e8b302d4c",
   "metadata": {},
   "source": [
    "# variable main rules"
   ]
  },
  {
   "cell_type": "raw",
   "id": "87df3771-44ea-4dbe-9f7a-f42c1dc1c188",
   "metadata": {},
   "source": [
    "--> variable name must be alpha numeric (underscore _ is also used)\n",
    "--> variable names may be shorter names like a,m,n,.... or more descriptive name like area=56, width=20, ...\n",
    "--> variable name should start with character only \n",
    "--> keywords should not be used as a variable names\n",
    "--> variable names are case sensitive."
   ]
  },
  {
   "cell_type": "code",
   "execution_count": null,
   "id": "e80fb5a0-fe20-4622-9d46-0ab8a8a31ca1",
   "metadata": {},
   "outputs": [],
   "source": [
    "area = 40  #validvariable\n",
    "4area = 2= #isnot a variable\n"
   ]
  },
  {
   "cell_type": "raw",
   "id": "299fee5e-e3f0-474b-ba29-c16047a4f59b",
   "metadata": {},
   "source": [
    "#keywords are int,break,float,"
   ]
  },
  {
   "cell_type": "code",
   "execution_count": 14,
   "id": "0dc6d2bb-839b-4018-a707-c5fdc7fbd7da",
   "metadata": {},
   "outputs": [],
   "source": [
    "AGE = 89"
   ]
  },
  {
   "cell_type": "code",
   "execution_count": 15,
   "id": "e169c8cd-c984-416e-a341-e43dbc124456",
   "metadata": {},
   "outputs": [],
   "source": [
    "age = 43"
   ]
  },
  {
   "cell_type": "raw",
   "id": "74aa1203-cf19-4625-82c8-606ce9d6a1ce",
   "metadata": {},
   "source": [
    "Variables are of two types they are \n",
    "1. numeric(intergers, float, complex)\n",
    "2. Txt(Strings)"
   ]
  },
  {
   "cell_type": "code",
   "execution_count": 16,
   "id": "54325ebe-08f2-41ea-9316-3874d539ceee",
   "metadata": {},
   "outputs": [],
   "source": [
    "a = 10 #integer\n",
    "b = 20.23 #float\n",
    "c = 10+5j #complex\n",
    "d = 'Hyderabad' #String"
   ]
  },
  {
   "cell_type": "code",
   "execution_count": 17,
   "id": "71f2ea24-d885-4324-ba1f-85404ae4946d",
   "metadata": {},
   "outputs": [
    {
     "data": {
      "text/plain": [
       "(10, 20.23, (10+5j))"
      ]
     },
     "execution_count": 17,
     "metadata": {},
     "output_type": "execute_result"
    }
   ],
   "source": [
    "a,b,c"
   ]
  },
  {
   "cell_type": "code",
   "execution_count": 18,
   "id": "350f82d8-ea57-46be-8ced-84ca2a26b104",
   "metadata": {},
   "outputs": [
    {
     "data": {
      "text/plain": [
       "'Hyderabad'"
      ]
     },
     "execution_count": 18,
     "metadata": {},
     "output_type": "execute_result"
    }
   ],
   "source": [
    "d"
   ]
  },
  {
   "cell_type": "code",
   "execution_count": 1,
   "id": "36cd77b3-0ea9-40a0-b8a3-b2b59f54d133",
   "metadata": {},
   "outputs": [
    {
     "ename": "NameError",
     "evalue": "name 'a' is not defined",
     "output_type": "error",
     "traceback": [
      "\u001b[1;31m---------------------------------------------------------------------------\u001b[0m",
      "\u001b[1;31mNameError\u001b[0m                                 Traceback (most recent call last)",
      "Cell \u001b[1;32mIn[1], line 1\u001b[0m\n\u001b[1;32m----> 1\u001b[0m \u001b[38;5;28mtype\u001b[39m(a)\n",
      "\u001b[1;31mNameError\u001b[0m: name 'a' is not defined"
     ]
    }
   ],
   "source": [
    "type(a)  #type function"
   ]
  },
  {
   "cell_type": "raw",
   "id": "abae84cb-b51c-44a7-bf89-b4baa4269d5c",
   "metadata": {},
   "source": [
    "---> type is a function which returns datatype of the variable"
   ]
  },
  {
   "cell_type": "markdown",
   "id": "3f85430a-d46d-4fe8-a065-82676ab87d76",
   "metadata": {},
   "source": [
    "# 16/3/24  "
   ]
  },
  {
   "cell_type": "markdown",
   "id": "535cb274-9215-436f-8673-94c37d25958c",
   "metadata": {},
   "source": [
    "# Q. Swap a and b "
   ]
  },
  {
   "cell_type": "code",
   "execution_count": 4,
   "id": "2d0569c5-1790-4179-8b49-911614bf1ddc",
   "metadata": {},
   "outputs": [
    {
     "name": "stdin",
     "output_type": "stream",
     "text": [
      "enter a value: 30\n",
      "enter b value: 20\n"
     ]
    },
    {
     "name": "stdout",
     "output_type": "stream",
     "text": [
      "Swapped value of a is: 20\n",
      "Swapped value of b is: 30\n"
     ]
    }
   ],
   "source": [
    "a = int(input(\"enter a value:\"))\n",
    "b = int(input(\"enter b value:\"))\n",
    "a=a+b\n",
    "b=a-b\n",
    "a=a-b\n",
    "print(\"Swapped value of a is:\",a)\n",
    "print(\"Swapped value of b is:\",b)"
   ]
  },
  {
   "cell_type": "markdown",
   "id": "b46ca5d9-6095-4216-a4f3-4a67bdcd19f0",
   "metadata": {},
   "source": [
    "# 19-03-24"
   ]
  },
  {
   "cell_type": "markdown",
   "id": "a81e3ce2-0260-4ef7-8df8-dd01bf5015cd",
   "metadata": {},
   "source": [
    " # datatypes"
   ]
  },
  {
   "cell_type": "code",
   "execution_count": 3,
   "id": "1dabd395-7a4a-4626-9d40-dac2634facbc",
   "metadata": {},
   "outputs": [],
   "source": [
    "a = 10     #valid integers\n",
    "b = 4234235363634   #valid integers\n",
    "c = -222    #valid integers"
   ]
  },
  {
   "cell_type": "code",
   "execution_count": 2,
   "id": "b5a3fe1d-4820-4d0d-9df8-8d04d9d161ac",
   "metadata": {},
   "outputs": [
    {
     "name": "stdout",
     "output_type": "stream",
     "text": [
      "a value is : 10\n",
      "b value is : 4234235363634\n",
      "c value is : -222\n"
     ]
    }
   ],
   "source": [
    "print('a value is :', a)\n",
    "print('b value is :', b)\n",
    "print('c value is :', c)"
   ]
  },
  {
   "cell_type": "raw",
   "id": "bd4de26e-dd93-49bf-a2a9-03d58ede68ad",
   "metadata": {},
   "source": [
    "---> type(): type() methods returns data type of a variable"
   ]
  },
  {
   "cell_type": "code",
   "execution_count": 4,
   "id": "cf22ef1f-79b2-4e75-a0e3-89c7fc2cfd25",
   "metadata": {},
   "outputs": [
    {
     "name": "stdout",
     "output_type": "stream",
     "text": [
      "Data type of a is : <class 'int'>\n",
      "Data type of b is : <class 'int'>\n",
      "Data type of c is : <class 'int'>\n"
     ]
    }
   ],
   "source": [
    "print('Data type of a is :', type(a))\n",
    "print('Data type of b is :', type(b))\n",
    "print('Data type of c is :', type(c))"
   ]
  },
  {
   "cell_type": "markdown",
   "id": "7bf92c24-de1e-4378-ae0c-c23293cb258e",
   "metadata": {},
   "source": [
    "# floating point data"
   ]
  },
  {
   "cell_type": "code",
   "execution_count": 5,
   "id": "df83117e-be19-4c8c-8cb9-98452da13db4",
   "metadata": {},
   "outputs": [],
   "source": [
    "a = 5.343  #valid floating point integer\n",
    "b = 32.324342423   #valid floating point integer\n",
    "c = -90.23   #valid floating point integer"
   ]
  },
  {
   "cell_type": "code",
   "execution_count": 7,
   "id": "3613b66e-bc27-4c3a-96a9-31ac67b573a3",
   "metadata": {},
   "outputs": [
    {
     "name": "stdout",
     "output_type": "stream",
     "text": [
      "value of a: 5.343 Data type of a is : <class 'float'>\n",
      "value of b: 32.324342423 Data type of b is : <class 'float'>\n",
      "value of c: -90.23 Data type of c is : <class 'float'>\n"
     ]
    }
   ],
   "source": [
    "print('value of a:',a,'Data type of a is :',type(a))   # we can write print and datatypoe function as a single command \n",
    "print('value of b:',b,'Data type of b is :',type(b))\n",
    "print('value of c:',c,'Data type of c is :',type(c))"
   ]
  },
  {
   "cell_type": "markdown",
   "id": "139d9547-e817-4b3f-95c3-d92472974025",
   "metadata": {},
   "source": [
    "# complex numbers"
   ]
  },
  {
   "cell_type": "code",
   "execution_count": 8,
   "id": "9a18e4d4-6628-4f00-aac2-3a25fd83a394",
   "metadata": {},
   "outputs": [],
   "source": [
    "a = 2+8j # \"j\" is used to represent imaginory number\n",
    "b = -8-5j\n",
    "c = 4j"
   ]
  },
  {
   "cell_type": "code",
   "execution_count": 9,
   "id": "6ba6f89c-5fb6-4c0a-b355-77bea37b005b",
   "metadata": {},
   "outputs": [
    {
     "name": "stdout",
     "output_type": "stream",
     "text": [
      "value of a: (2+8j) Data type of a is : <class 'complex'>\n",
      "value of b: (-8-5j) Data type of b is : <class 'complex'>\n",
      "value of c: 4j Data type of c is : <class 'complex'>\n"
     ]
    }
   ],
   "source": [
    "print('value of a:',a,'Data type of a is :',type(a))   \n",
    "print('value of b:',b,'Data type of b is :',type(b))\n",
    "print('value of c:',c,'Data type of c is :',type(c))"
   ]
  },
  {
   "cell_type": "markdown",
   "id": "3d216d1c-4cf4-4339-a5f8-d096a2fd3e85",
   "metadata": {},
   "source": [
    "# strings (text datatype)"
   ]
  },
  {
   "cell_type": "raw",
   "id": "4e564bb2-5ae8-4d0f-a4cb-18e5cd4d2bf8",
   "metadata": {},
   "source": [
    "--> string is collection of characters \n",
    "--> In python string are enclosed with \" \" or ' '.\n",
    "--> Even a single character also considered as a string."
   ]
  },
  {
   "cell_type": "code",
   "execution_count": 10,
   "id": "7d7f5d09-4fc5-4d98-afbf-76d053b0fd1e",
   "metadata": {},
   "outputs": [],
   "source": [
    "a = 'hyderabad'"
   ]
  },
  {
   "cell_type": "code",
   "execution_count": 11,
   "id": "196d9502-a1ab-4853-8178-010b414cc891",
   "metadata": {},
   "outputs": [
    {
     "name": "stdout",
     "output_type": "stream",
     "text": [
      "hyderabad\n"
     ]
    }
   ],
   "source": [
    "print(a)"
   ]
  },
  {
   "cell_type": "code",
   "execution_count": 12,
   "id": "dbc61b64-45e9-4153-b3e2-bb32cef079d3",
   "metadata": {},
   "outputs": [
    {
     "data": {
      "text/plain": [
       "str"
      ]
     },
     "execution_count": 12,
     "metadata": {},
     "output_type": "execute_result"
    }
   ],
   "source": [
    "type(a)"
   ]
  },
  {
   "cell_type": "markdown",
   "id": "a5012d17-8fa3-433e-a5fb-ddfb092dbc07",
   "metadata": {},
   "source": [
    "# sequence data type"
   ]
  },
  {
   "cell_type": "raw",
   "id": "2cb6455b-22c4-482e-89c6-a5788f911904",
   "metadata": {},
   "source": [
    "sequence data type\n",
    "1. List\n",
    "2. tuple\n",
    "\n",
    "List:\n",
    "        list is collection of hetrogeneous items which are indexed and mutable(changeble)\n",
    "        list items are enclosed with []\n",
    "\n",
    "tuple:\n",
    "        tuple is a collection of hetrogeneous data items which are indexed and immutable(unchangeble)\n",
    "        tuple are enclosed with ()"
   ]
  },
  {
   "cell_type": "code",
   "execution_count": 14,
   "id": "760cc54a-b770-4acc-b7f2-bfabd7a5bfe9",
   "metadata": {},
   "outputs": [],
   "source": [
    "S = [23,11.22,11,'sai',(2+5j)]"
   ]
  },
  {
   "cell_type": "code",
   "execution_count": 16,
   "id": "18f36598-0232-4e87-8468-68827efee7e8",
   "metadata": {},
   "outputs": [
    {
     "data": {
      "text/plain": [
       "list"
      ]
     },
     "execution_count": 16,
     "metadata": {},
     "output_type": "execute_result"
    }
   ],
   "source": [
    "type(S)"
   ]
  },
  {
   "cell_type": "code",
   "execution_count": 17,
   "id": "eab107cf-9f4b-45e9-8e80-d502bbc6ed61",
   "metadata": {},
   "outputs": [],
   "source": [
    "K = (23,11.22,11,'sai',(2+5j))"
   ]
  },
  {
   "cell_type": "code",
   "execution_count": 18,
   "id": "16e3445d-2399-490e-927f-10a08ebb0d7e",
   "metadata": {},
   "outputs": [
    {
     "data": {
      "text/plain": [
       "tuple"
      ]
     },
     "execution_count": 18,
     "metadata": {},
     "output_type": "execute_result"
    }
   ],
   "source": [
    "type(K)"
   ]
  },
  {
   "cell_type": "markdown",
   "id": "b327897d-015b-4b30-9b20-660a6d70c633",
   "metadata": {},
   "source": [
    "# Type casting / type conversion"
   ]
  },
  {
   "cell_type": "raw",
   "id": "dae78be9-bb52-454c-a51c-cd556781a164",
   "metadata": {},
   "source": [
    "---> It is a process of converting datatype of a variable to another datatype\n",
    "---> Int and Float can be convereted into Float, Int , String\n",
    "---> whereas String is convereted to integer or float  it is possible if string is equal to numeric value"
   ]
  },
  {
   "cell_type": "code",
   "execution_count": 19,
   "id": "a1bd24c6-06eb-4cea-b3bb-d059cdcd3468",
   "metadata": {},
   "outputs": [
    {
     "name": "stdout",
     "output_type": "stream",
     "text": [
      "<class 'int'>\n"
     ]
    }
   ],
   "source": [
    "a = 10\n",
    "print(type(a))"
   ]
  },
  {
   "cell_type": "code",
   "execution_count": 20,
   "id": "45329ed3-11c1-4abe-bcff-7111e7add7c9",
   "metadata": {},
   "outputs": [
    {
     "name": "stdout",
     "output_type": "stream",
     "text": [
      "<class 'float'>\n"
     ]
    }
   ],
   "source": [
    "b = float(a)\n",
    "print(type(b))"
   ]
  },
  {
   "cell_type": "code",
   "execution_count": 21,
   "id": "0b0a5ab3-ad42-4fba-b991-0acafa793376",
   "metadata": {},
   "outputs": [
    {
     "name": "stdout",
     "output_type": "stream",
     "text": [
      "<class 'str'>\n"
     ]
    }
   ],
   "source": [
    "c = str(a)\n",
    "print(type(c))"
   ]
  },
  {
   "cell_type": "code",
   "execution_count": 22,
   "id": "37164682-1ee2-44ae-9707-02c04cc25ee3",
   "metadata": {},
   "outputs": [
    {
     "name": "stdout",
     "output_type": "stream",
     "text": [
      "<class 'float'>\n"
     ]
    }
   ],
   "source": [
    "a = 32.232\n",
    "print(type(a))"
   ]
  },
  {
   "cell_type": "code",
   "execution_count": 24,
   "id": "20b08e82-016e-43b3-9dbc-732aa595993b",
   "metadata": {},
   "outputs": [
    {
     "name": "stdout",
     "output_type": "stream",
     "text": [
      "<class 'float'>\n"
     ]
    }
   ],
   "source": [
    "b = int(a)\n",
    "print(type(a))"
   ]
  },
  {
   "cell_type": "code",
   "execution_count": 25,
   "id": "b76c3058-7a8f-4101-b1c2-a55627967578",
   "metadata": {},
   "outputs": [
    {
     "data": {
      "text/plain": [
       "32"
      ]
     },
     "execution_count": 25,
     "metadata": {},
     "output_type": "execute_result"
    }
   ],
   "source": [
    "b"
   ]
  },
  {
   "cell_type": "code",
   "execution_count": null,
   "id": "68c40af6-bb57-49c1-815a-4fe266a74fb2",
   "metadata": {},
   "outputs": [],
   "source": [
    "# String to integer\n",
    "# It is possible if at all  if string is equal to numeric value "
   ]
  },
  {
   "cell_type": "code",
   "execution_count": 28,
   "id": "48411219-77af-4c18-8624-2ba007861326",
   "metadata": {},
   "outputs": [
    {
     "name": "stdout",
     "output_type": "stream",
     "text": [
      "222 <class 'str'>\n"
     ]
    }
   ],
   "source": [
    "a  = '222'\n",
    "print(a,type(a))"
   ]
  },
  {
   "cell_type": "code",
   "execution_count": 27,
   "id": "77e27218-9320-441f-83c5-6138cddfb3c4",
   "metadata": {},
   "outputs": [
    {
     "name": "stdout",
     "output_type": "stream",
     "text": [
      "222 <class 'int'>\n"
     ]
    }
   ],
   "source": [
    "b = int(a)\n",
    "print(b,type(b))"
   ]
  },
  {
   "cell_type": "code",
   "execution_count": 29,
   "id": "b55b2d0b-d923-4522-9634-6312fff2c6a5",
   "metadata": {},
   "outputs": [
    {
     "data": {
      "text/plain": [
       "'222'"
      ]
     },
     "execution_count": 29,
     "metadata": {},
     "output_type": "execute_result"
    }
   ],
   "source": [
    "a"
   ]
  },
  {
   "cell_type": "code",
   "execution_count": 30,
   "id": "a87cfa25-9666-4693-8182-a562466fb097",
   "metadata": {},
   "outputs": [
    {
     "name": "stdout",
     "output_type": "stream",
     "text": [
      "<class 'float'>\n"
     ]
    }
   ],
   "source": [
    "c = float(a)\n",
    "print(type(c))"
   ]
  },
  {
   "cell_type": "code",
   "execution_count": 31,
   "id": "53b78e8c-40f2-4d34-9b0e-46ff86d3ea49",
   "metadata": {},
   "outputs": [
    {
     "data": {
      "text/plain": [
       "222.0"
      ]
     },
     "execution_count": 31,
     "metadata": {},
     "output_type": "execute_result"
    }
   ],
   "source": [
    "c"
   ]
  },
  {
   "cell_type": "markdown",
   "id": "a5091422-c6b1-4143-9ca0-dee55f50cad2",
   "metadata": {},
   "source": [
    "# Operators in Python"
   ]
  },
  {
   "cell_type": "raw",
   "id": "e45b63d0-efed-444c-9092-4ae8d1b9967c",
   "metadata": {},
   "source": [
    "1. Arthmetic Operators\n",
    "2. Assignment Operators\n",
    "3. Relationship Operators / comparision Operators \n",
    "4. Logical Operators\n",
    "5. Identity Operators\n",
    "6. Membership Operators\n",
    "7. Bitwise Operators"
   ]
  },
  {
   "cell_type": "raw",
   "id": "da47465f-9a52-4067-a2b0-91d737cd45d5",
   "metadata": {},
   "source": [
    "----> operators performs operations on operands\\variables."
   ]
  },
  {
   "cell_type": "raw",
   "id": "5e72a3f4-9cc0-43b6-989c-61414af323c7",
   "metadata": {},
   "source": [
    "1. Arthmetic operations are \n",
    "---> + -- addition\n",
    "---> - -- subtraction\n",
    "---> / -- Division\n",
    "---> * -- Multiplication\n",
    "---> % -- Modules\n",
    "--->// -- Floor division\n",
    "--->** -- exponentation"
   ]
  },
  {
   "cell_type": "code",
   "execution_count": 32,
   "id": "df3d58cf-f7be-4ff5-a189-961e1122d4d3",
   "metadata": {},
   "outputs": [],
   "source": [
    "a = 10\n",
    "b = 200"
   ]
  },
  {
   "cell_type": "code",
   "execution_count": 33,
   "id": "75446f11-76c9-460b-9b82-e830b59e4ae8",
   "metadata": {},
   "outputs": [
    {
     "data": {
      "text/plain": [
       "210"
      ]
     },
     "execution_count": 33,
     "metadata": {},
     "output_type": "execute_result"
    }
   ],
   "source": [
    "a+b # Addition"
   ]
  },
  {
   "cell_type": "code",
   "execution_count": 34,
   "id": "a62fcfe8-7378-41e8-8176-06222a9595d6",
   "metadata": {},
   "outputs": [
    {
     "data": {
      "text/plain": [
       "-190"
      ]
     },
     "execution_count": 34,
     "metadata": {},
     "output_type": "execute_result"
    }
   ],
   "source": [
    "a-b # Subtraction"
   ]
  },
  {
   "cell_type": "code",
   "execution_count": 35,
   "id": "65ab7a9a-6d5e-4c41-945d-57a433f67d30",
   "metadata": {},
   "outputs": [
    {
     "data": {
      "text/plain": [
       "0.05"
      ]
     },
     "execution_count": 35,
     "metadata": {},
     "output_type": "execute_result"
    }
   ],
   "source": [
    "a/b # division"
   ]
  },
  {
   "cell_type": "code",
   "execution_count": 36,
   "id": "59d7dfa4-1755-4244-8204-36b2c22f4ea5",
   "metadata": {},
   "outputs": [
    {
     "data": {
      "text/plain": [
       "10"
      ]
     },
     "execution_count": 36,
     "metadata": {},
     "output_type": "execute_result"
    }
   ],
   "source": [
    "a%b # modules"
   ]
  },
  {
   "cell_type": "code",
   "execution_count": 37,
   "id": "fd6509f3-a0bb-47ee-b00c-4ce413fa9be4",
   "metadata": {},
   "outputs": [
    {
     "data": {
      "text/plain": [
       "0"
      ]
     },
     "execution_count": 37,
     "metadata": {},
     "output_type": "execute_result"
    }
   ],
   "source": [
    "a//b # floor division"
   ]
  },
  {
   "cell_type": "code",
   "execution_count": 38,
   "id": "fb8b4fce-cc98-479c-95af-38c0fb392c61",
   "metadata": {},
   "outputs": [
    {
     "data": {
      "text/plain": [
       "100000000000000000000000000000000000000000000000000000000000000000000000000000000000000000000000000000000000000000000000000000000000000000000000000000000000000000000000000000000000000000000000000000000"
      ]
     },
     "execution_count": 38,
     "metadata": {},
     "output_type": "execute_result"
    }
   ],
   "source": [
    "a**b # exponentation"
   ]
  },
  {
   "cell_type": "code",
   "execution_count": 39,
   "id": "54938ebd-01c6-4a12-8e70-25763de83a28",
   "metadata": {},
   "outputs": [
    {
     "data": {
      "text/plain": [
       "2000"
      ]
     },
     "execution_count": 39,
     "metadata": {},
     "output_type": "execute_result"
    }
   ],
   "source": [
    "a*b #multiplication"
   ]
  },
  {
   "cell_type": "code",
   "execution_count": null,
   "id": "dcd2dedf-09ba-4fe6-a853-badf5841b38d",
   "metadata": {},
   "outputs": [],
   "source": []
  }
 ],
 "metadata": {
  "kernelspec": {
   "display_name": "Python 3 (ipykernel)",
   "language": "python",
   "name": "python3"
  },
  "language_info": {
   "codemirror_mode": {
    "name": "ipython",
    "version": 3
   },
   "file_extension": ".py",
   "mimetype": "text/x-python",
   "name": "python",
   "nbconvert_exporter": "python",
   "pygments_lexer": "ipython3",
   "version": "3.11.7"
  }
 },
 "nbformat": 4,
 "nbformat_minor": 5
}
